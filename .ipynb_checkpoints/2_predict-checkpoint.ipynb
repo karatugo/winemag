{
 "cells": [
  {
   "cell_type": "code",
   "execution_count": 1,
   "metadata": {
    "collapsed": true
   },
   "outputs": [],
   "source": [
    "import os\n",
    "import numpy as np\n",
    "import pandas as pd"
   ]
  },
  {
   "cell_type": "code",
   "execution_count": 2,
   "metadata": {},
   "outputs": [
    {
     "name": "stdout",
     "output_type": "stream",
     "text": [
      "<class 'pandas.core.frame.DataFrame'>\n",
      "RangeIndex: 150930 entries, 0 to 150929\n",
      "Data columns (total 52 columns):\n",
      "Unnamed: 0                        150930 non-null int64\n",
      "Unnamed: 0.1                      150930 non-null int64\n",
      "points                            150930 non-null int64\n",
      "price                             150930 non-null float64\n",
      "country_Albania                   150930 non-null int64\n",
      "country_Argentina                 150930 non-null int64\n",
      "country_Australia                 150930 non-null int64\n",
      "country_Austria                   150930 non-null int64\n",
      "country_Bosnia and Herzegovina    150930 non-null int64\n",
      "country_Brazil                    150930 non-null int64\n",
      "country_Bulgaria                  150930 non-null int64\n",
      "country_Canada                    150930 non-null int64\n",
      "country_Chile                     150930 non-null int64\n",
      "country_China                     150930 non-null int64\n",
      "country_Croatia                   150930 non-null int64\n",
      "country_Cyprus                    150930 non-null int64\n",
      "country_Czech Republic            150930 non-null int64\n",
      "country_Egypt                     150930 non-null int64\n",
      "country_England                   150930 non-null int64\n",
      "country_France                    150930 non-null int64\n",
      "country_Georgia                   150930 non-null int64\n",
      "country_Germany                   150930 non-null int64\n",
      "country_Greece                    150930 non-null int64\n",
      "country_Hungary                   150930 non-null int64\n",
      "country_India                     150930 non-null int64\n",
      "country_Israel                    150930 non-null int64\n",
      "country_Italy                     150930 non-null int64\n",
      "country_Japan                     150930 non-null int64\n",
      "country_Lebanon                   150930 non-null int64\n",
      "country_Lithuania                 150930 non-null int64\n",
      "country_Luxembourg                150930 non-null int64\n",
      "country_Macedonia                 150930 non-null int64\n",
      "country_Mexico                    150930 non-null int64\n",
      "country_Moldova                   150930 non-null int64\n",
      "country_Montenegro                150930 non-null int64\n",
      "country_Morocco                   150930 non-null int64\n",
      "country_New Zealand               150930 non-null int64\n",
      "country_Portugal                  150930 non-null int64\n",
      "country_Romania                   150930 non-null int64\n",
      "country_Serbia                    150930 non-null int64\n",
      "country_Slovakia                  150930 non-null int64\n",
      "country_Slovenia                  150930 non-null int64\n",
      "country_South Africa              150930 non-null int64\n",
      "country_South Korea               150930 non-null int64\n",
      "country_Spain                     150930 non-null int64\n",
      "country_Switzerland               150930 non-null int64\n",
      "country_Tunisia                   150930 non-null int64\n",
      "country_Turkey                    150930 non-null int64\n",
      "country_US                        150930 non-null int64\n",
      "country_US-France                 150930 non-null int64\n",
      "country_Ukraine                   150930 non-null int64\n",
      "country_Uruguay                   150930 non-null int64\n",
      "dtypes: float64(1), int64(51)\n",
      "memory usage: 59.9 MB\n"
     ]
    }
   ],
   "source": [
    "df = pd.read_csv(os.path.join(os.getcwd(), \"data\", \"winemag-data_first150k_processed.csv\"))\n",
    "df.info()"
   ]
  },
  {
   "cell_type": "code",
   "execution_count": 3,
   "metadata": {},
   "outputs": [
    {
     "name": "stdout",
     "output_type": "stream",
     "text": [
      "(150930, 49) (150930,)\n"
     ]
    }
   ],
   "source": [
    "X = df.loc[:, \"price\":].as_matrix().astype(\"float\")\n",
    "y = df[\"points\"].ravel()\n",
    "\n",
    "print X.shape, y.shape"
   ]
  },
  {
   "cell_type": "markdown",
   "metadata": {},
   "source": [
    "We split our data into two: test and training data:"
   ]
  },
  {
   "cell_type": "code",
   "execution_count": 4,
   "metadata": {},
   "outputs": [
    {
     "name": "stdout",
     "output_type": "stream",
     "text": [
      "(120744, 49) (120744,)\n",
      "(30186, 49) (30186,)\n"
     ]
    }
   ],
   "source": [
    "from sklearn.model_selection import train_test_split\n",
    "X_train, X_test, y_train, y_test = train_test_split(X, y, test_size=0.2, random_state=0)\n",
    "print X_train.shape, y_train.shape\n",
    "print X_test.shape, y_test.shape"
   ]
  },
  {
   "cell_type": "code",
   "execution_count": 5,
   "metadata": {},
   "outputs": [
    {
     "name": "stdout",
     "output_type": "stream",
     "text": [
      "mean points in train:  87.889\n",
      "mean points in test:  87.888\n"
     ]
    }
   ],
   "source": [
    "print \"mean points in train: {0: .3f}\".format(np.mean(y_train))\n",
    "print \"mean points in test: {0: .3f}\".format(np.mean(y_test))"
   ]
  },
  {
   "cell_type": "markdown",
   "metadata": {},
   "source": [
    "Let's try Decision Trees:"
   ]
  },
  {
   "cell_type": "code",
   "execution_count": 6,
   "metadata": {},
   "outputs": [
    {
     "data": {
      "text/plain": [
       "21.3"
      ]
     },
     "execution_count": 6,
     "metadata": {},
     "output_type": "execute_result"
    }
   ],
   "source": [
    "from sklearn.tree import DecisionTreeClassifier\n",
    "decision_tree = DecisionTreeClassifier()\n",
    "decision_tree.fit(X_train, y_train)\n",
    "Y_pred = decision_tree.predict(X_test)\n",
    "acc_decision_tree = round(decision_tree.score(X_train, y_train) * 100, 2)\n",
    "acc_decision_tree"
   ]
  },
  {
   "cell_type": "markdown",
   "metadata": {},
   "source": [
    "Also, try Random Forest:"
   ]
  },
  {
   "cell_type": "code",
   "execution_count": 7,
   "metadata": {},
   "outputs": [
    {
     "data": {
      "text/plain": [
       "21.29"
      ]
     },
     "execution_count": 7,
     "metadata": {},
     "output_type": "execute_result"
    }
   ],
   "source": [
    "from sklearn.ensemble import RandomForestClassifier\n",
    "random_forest = RandomForestClassifier(n_estimators=100)\n",
    "random_forest.fit(X_train, y_train)\n",
    "Y_pred = random_forest.predict(X_test)\n",
    "random_forest.score(X_train, y_train)\n",
    "acc_random_forest = round(random_forest.score(X_train, y_train) * 100, 2)\n",
    "acc_random_forest"
   ]
  },
  {
   "cell_type": "code",
   "execution_count": null,
   "metadata": {
    "collapsed": true
   },
   "outputs": [],
   "source": []
  }
 ],
 "metadata": {
  "kernelspec": {
   "display_name": "Python 2",
   "language": "python",
   "name": "python2"
  },
  "language_info": {
   "codemirror_mode": {
    "name": "ipython",
    "version": 2
   },
   "file_extension": ".py",
   "mimetype": "text/x-python",
   "name": "python",
   "nbconvert_exporter": "python",
   "pygments_lexer": "ipython2",
   "version": "2.7.14"
  }
 },
 "nbformat": 4,
 "nbformat_minor": 2
}
