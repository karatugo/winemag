{
 "cells": [
  {
   "cell_type": "code",
   "execution_count": 1,
   "metadata": {
    "collapsed": true
   },
   "outputs": [],
   "source": [
    "import numpy as np\n",
    "import pandas as pd"
   ]
  },
  {
   "cell_type": "code",
   "execution_count": 2,
   "metadata": {},
   "outputs": [
    {
     "name": "stdout",
     "output_type": "stream",
     "text": [
      "<class 'pandas.core.frame.DataFrame'>\n",
      "RangeIndex: 150930 entries, 0 to 150929\n",
      "Data columns (total 52 columns):\n",
      "Unnamed: 0                        150930 non-null int64\n",
      "Unnamed: 0.1                      150930 non-null int64\n",
      "points                            150930 non-null int64\n",
      "price                             150930 non-null float64\n",
      "country_Albania                   150930 non-null int64\n",
      "country_Argentina                 150930 non-null int64\n",
      "country_Australia                 150930 non-null int64\n",
      "country_Austria                   150930 non-null int64\n",
      "country_Bosnia and Herzegovina    150930 non-null int64\n",
      "country_Brazil                    150930 non-null int64\n",
      "country_Bulgaria                  150930 non-null int64\n",
      "country_Canada                    150930 non-null int64\n",
      "country_Chile                     150930 non-null int64\n",
      "country_China                     150930 non-null int64\n",
      "country_Croatia                   150930 non-null int64\n",
      "country_Cyprus                    150930 non-null int64\n",
      "country_Czech Republic            150930 non-null int64\n",
      "country_Egypt                     150930 non-null int64\n",
      "country_England                   150930 non-null int64\n",
      "country_France                    150930 non-null int64\n",
      "country_Georgia                   150930 non-null int64\n",
      "country_Germany                   150930 non-null int64\n",
      "country_Greece                    150930 non-null int64\n",
      "country_Hungary                   150930 non-null int64\n",
      "country_India                     150930 non-null int64\n",
      "country_Israel                    150930 non-null int64\n",
      "country_Italy                     150930 non-null int64\n",
      "country_Japan                     150930 non-null int64\n",
      "country_Lebanon                   150930 non-null int64\n",
      "country_Lithuania                 150930 non-null int64\n",
      "country_Luxembourg                150930 non-null int64\n",
      "country_Macedonia                 150930 non-null int64\n",
      "country_Mexico                    150930 non-null int64\n",
      "country_Moldova                   150930 non-null int64\n",
      "country_Montenegro                150930 non-null int64\n",
      "country_Morocco                   150930 non-null int64\n",
      "country_New Zealand               150930 non-null int64\n",
      "country_Portugal                  150930 non-null int64\n",
      "country_Romania                   150930 non-null int64\n",
      "country_Serbia                    150930 non-null int64\n",
      "country_Slovakia                  150930 non-null int64\n",
      "country_Slovenia                  150930 non-null int64\n",
      "country_South Africa              150930 non-null int64\n",
      "country_South Korea               150930 non-null int64\n",
      "country_Spain                     150930 non-null int64\n",
      "country_Switzerland               150930 non-null int64\n",
      "country_Tunisia                   150930 non-null int64\n",
      "country_Turkey                    150930 non-null int64\n",
      "country_US                        150930 non-null int64\n",
      "country_US-France                 150930 non-null int64\n",
      "country_Ukraine                   150930 non-null int64\n",
      "country_Uruguay                   150930 non-null int64\n",
      "dtypes: float64(1), int64(51)\n",
      "memory usage: 59.9 MB\n"
     ]
    }
   ],
   "source": [
    "df = pd.read_csv(\"/Users/kbircan/projects/winemag/data/winemag-data_first150k_processed.csv\")\n",
    "df.info()"
   ]
  },
  {
   "cell_type": "code",
   "execution_count": null,
   "metadata": {
    "collapsed": true
   },
   "outputs": [],
   "source": []
  }
 ],
 "metadata": {
  "kernelspec": {
   "display_name": "Python 2",
   "language": "python",
   "name": "python2"
  },
  "language_info": {
   "codemirror_mode": {
    "name": "ipython",
    "version": 2
   },
   "file_extension": ".py",
   "mimetype": "text/x-python",
   "name": "python",
   "nbconvert_exporter": "python",
   "pygments_lexer": "ipython2",
   "version": "2.7.14"
  }
 },
 "nbformat": 4,
 "nbformat_minor": 2
}
